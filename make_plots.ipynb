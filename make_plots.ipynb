{
  "nbformat": 4,
  "nbformat_minor": 0,
  "metadata": {
    "colab": {
      "name": "make_plots.ipynb",
      "provenance": [],
      "collapsed_sections": []
    },
    "kernelspec": {
      "name": "python3",
      "display_name": "Python 3"
    },
    "language_info": {
      "name": "python"
    }
  },
  "cells": [
    {
      "cell_type": "code",
      "execution_count": null,
      "metadata": {
        "id": "mE6tJPq-CF6p"
      },
      "outputs": [],
      "source": [
        "# First upload txt files from the github repo (this takes a couple min).\n",
        "from google.colab import files\n",
        "uploaded = files.upload()"
      ]
    },
    {
      "cell_type": "code",
      "source": [
        "EXPERIMENT1 = \"coop0_mixedcoop0_mating0.txt\"\n",
        "EXPERIMENT2 = \"coop1_mixedcoop0_mating1.txt\"\n",
        "EXPERIMENT3 = \"coop1_mixedcoop1_mating1.txt\"\n",
        "\n",
        "def get_points(experiment, generation):\n",
        "  points = []\n",
        "  with open(experiment, \"rb\") as f:\n",
        "      i = 0\n",
        "      for line in f.readlines():\n",
        "          line = line.decode('utf-8')\n",
        "          if i == generation:\n",
        "            population = line.rstrip().rstrip(\";\").split(\";\")\n",
        "            for item in population:\n",
        "                point = [float(val) for val in item.split(\",\")]\n",
        "                points.append(point)\n",
        "            break\n",
        "          i += 10  # We only output data every 10 generations        \n",
        "  \n",
        "  return points"
      ],
      "metadata": {
        "id": "0eXOdbK6DsGo"
      },
      "execution_count": null,
      "outputs": []
    },
    {
      "cell_type": "code",
      "source": [
        "import matplotlib.pyplot as plt\n",
        "import seaborn as sns\n",
        "sns.set(style=\"whitegrid\")\n",
        "\n",
        "NUM_PLOTS = 4\n",
        "fig, axes = plt.subplots(1, NUM_PLOTS, figsize=(25, 5), sharex=True, sharey=True)\n",
        "\n",
        "def make_plot(index, generation, points):\n",
        "  task1_performance = []\n",
        "  task2_performance = []\n",
        "  min_reward_diffs = []\n",
        "  for (a, b, c) in points:\n",
        "    task1_performance.append(a)\n",
        "    task2_performance.append(b)\n",
        "    min_reward_diffs.append(c)\n",
        "\n",
        "  plot = sns.scatterplot(\n",
        "      ax=axes[index],\n",
        "      x=task1_performance, \n",
        "      y=task2_performance, \n",
        "      hue=min_reward_diffs,\n",
        "      hue_norm=(-3, 3))\n",
        "  plot.set(xlim=(0.3, 1.0), \n",
        "          ylim=(0.3, 1.0),\n",
        "          ylabel='task2 accuracy',\n",
        "          title='generation {}'.format(generation))\n",
        "  if index == 0:\n",
        "    plot.legend(title='min_reward_diff')  \n",
        "  else:\n",
        "    axes[index].legend([],[], frameon=False)\n",
        "\n",
        "points0 = get_points(EXPERIMENT3, 0)\n",
        "points10 = get_points(EXPERIMENT3, 10)\n",
        "points100 = get_points(EXPERIMENT3, 100)\n",
        "points1000 = get_points(EXPERIMENT3, 1000)\n",
        "\n",
        "make_plot(0, 0, points0)\n",
        "make_plot(1, 10, points10)\n",
        "make_plot(2, 100, points100)\n",
        "make_plot(3, 1000, points1000)\n",
        "\n",
        "fig.text(0.5, 0.04, 'task1 accuracy', ha='center')\n",
        "\n",
        "plt.show()"
      ],
      "metadata": {
        "id": "85Id25g_k1Lr"
      },
      "execution_count": null,
      "outputs": []
    }
  ]
}